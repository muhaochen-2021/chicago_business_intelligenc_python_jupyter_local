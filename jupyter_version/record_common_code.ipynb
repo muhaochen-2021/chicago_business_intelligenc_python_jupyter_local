{
 "cells": [
  {
   "cell_type": "code",
   "execution_count": null,
   "id": "8020ba4f",
   "metadata": {},
   "outputs": [],
   "source": [
    "zip_code\n",
    "week_number\n",
    "week_start\n",
    "week_end\n",
    "cases_weekly\n",
    "cases_cumulative\n"
   ]
  },
  {
   "cell_type": "code",
   "execution_count": 2,
   "id": "42acbfca",
   "metadata": {},
   "outputs": [],
   "source": [
    "neighborhood_community_zip = [\"id\",\"geo_id\",\"zipcode\",\"community\",\"neighborhood\"]"
   ]
  },
  {
   "cell_type": "code",
   "execution_count": 3,
   "id": "b63c56e1",
   "metadata": {},
   "outputs": [],
   "source": [
    "taxi_trip_total = [\"id\",\"trip_id\",\"trip_start_timestamp\",\"trip_end_timestamp\",\"pickup_centroid_latitude\",\"pickup_centroid_longitude\",\n",
    "                   \"dropoff_centroid_latitude\",\"dropoff_centroid_longitude\",\"pickup_zip_code\",\"dropoff_zip_code\"]"
   ]
  },
  {
   "cell_type": "code",
   "execution_count": null,
   "id": "a4911957",
   "metadata": {},
   "outputs": [],
   "source": [
    "covid_ccvi = [\"id\",\"community_area_name\",\"ccvi_score\",\"ccvi_category\"]"
   ]
  },
  {
   "cell_type": "code",
   "execution_count": null,
   "id": "028ffe2a",
   "metadata": {},
   "outputs": [],
   "source": [
    "building_permits = [\"id\",\"permit_id\",\"permit_type\",\"total_fee\",\"latitude\",\"longitude\",\"zipcode\"]"
   ]
  },
  {
   "cell_type": "code",
   "execution_count": null,
   "id": "0f47d61f",
   "metadata": {},
   "outputs": [],
   "source": [
    "public_health_statistics = [\"id\",\"community_area_name\",\"below_poverty_level\",\"per_capita_income\",\"unemployment\"]"
   ]
  },
  {
   "cell_type": "code",
   "execution_count": null,
   "id": "d704a4c6",
   "metadata": {},
   "outputs": [],
   "source": [
    "covid_weekly_case = [\"id\",\"zipcode\",\"week_number\",\"week_start\",\"week_end\",\"cases_weekly\",\"cases_cumulative\"]"
   ]
  },
  {
   "cell_type": "code",
   "execution_count": null,
   "id": "6c5e92f9",
   "metadata": {},
   "outputs": [],
   "source": []
  },
  {
   "cell_type": "code",
   "execution_count": null,
   "id": "c02a9978",
   "metadata": {},
   "outputs": [],
   "source": []
  },
  {
   "cell_type": "code",
   "execution_count": null,
   "id": "2888c235",
   "metadata": {},
   "outputs": [],
   "source": []
  }
 ],
 "metadata": {
  "kernelspec": {
   "display_name": "Python 3 (ipykernel)",
   "language": "python",
   "name": "python3"
  },
  "language_info": {
   "codemirror_mode": {
    "name": "ipython",
    "version": 3
   },
   "file_extension": ".py",
   "mimetype": "text/x-python",
   "name": "python",
   "nbconvert_exporter": "python",
   "pygments_lexer": "ipython3",
   "version": "3.9.7"
  }
 },
 "nbformat": 4,
 "nbformat_minor": 5
}
